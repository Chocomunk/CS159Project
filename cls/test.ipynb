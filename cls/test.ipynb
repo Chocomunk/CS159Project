{
 "cells": [
  {
   "cell_type": "code",
   "execution_count": 1,
   "metadata": {},
   "outputs": [],
   "source": [
    "# JUST RUN ALL CELLS AND CHECK THE RESULTS AT THE BOTTOM\n",
    "\n",
    "import argparse\n",
    "import csv\n",
    "import os\n",
    "import shutil\n",
    "from tqdm import tqdm\n",
    "\n",
    "try: import setGPU\n",
    "except ImportError: pass\n",
    "\n",
    "import torch\n",
    "import torch.nn as nn\n",
    "import torch.optim as optim\n",
    "from torch.autograd import Variable\n",
    "\n",
    "import numpy as np\n",
    "import numpy.random as npr\n",
    "\n",
    "import sys\n",
    "import time\n",
    "sys.path.insert(0,'/home/alvin/Documents/cs159/CS159Project/qpth/')\n",
    "\n",
    "import matplotlib as mpl\n",
    "mpl.use('Agg')\n",
    "import matplotlib.pyplot as plt\n",
    "plt.style.use('bmh')\n",
    "\n",
    "import models\n",
    "\n",
    "import sys\n",
    "\n",
    "import torchvision.datasets as dset\n",
    "import torchvision.transforms as transforms\n",
    "from torch.utils.data import DataLoader\n",
    "import torch.nn.functional as F\n",
    "\n",
    "batchSz = 64"
   ]
  },
  {
   "cell_type": "code",
   "execution_count": 2,
   "metadata": {},
   "outputs": [],
   "source": [
    "model = torch.load(\"work/mnist.lenet-optnet.nHidden:50.nineq:100.eps:0.0001/latest.pth\", map_location=torch.device('cpu'))"
   ]
  },
  {
   "cell_type": "code",
   "execution_count": 3,
   "metadata": {},
   "outputs": [],
   "source": [
    "testLoader = torch.utils.data.DataLoader(\n",
    "    dset.MNIST('data/mnist', train=False, transform=transforms.Compose([\n",
    "        transforms.ToTensor(),\n",
    "        transforms.Normalize((0.1307,), (0.3081,))\n",
    "    ])),\n",
    "    batch_size=batchSz, shuffle=False, **{})"
   ]
  },
  {
   "cell_type": "code",
   "execution_count": 20,
   "metadata": {},
   "outputs": [],
   "source": [
    "def test(net):\n",
    "    net.eval()\n",
    "    test_loss = 0\n",
    "    incorrect = 0\n",
    "\n",
    "    start_time = time.time()\n",
    "    with torch.no_grad():\n",
    "        i = 0\n",
    "        for data, target in testLoader:\n",
    "            i += 1\n",
    "            print('Testing model: {}/{}'.format(i, 10), end='\\r')\n",
    "            data, target = Variable(data), Variable(target)\n",
    "            output = net(data)\n",
    "            test_loss += F.nll_loss(output, target).data\n",
    "            pred = output.data.max(1)[1] # get the index of the max log-probability\n",
    "            incorrect += pred.ne(target.data).cpu().sum()\n",
    "\n",
    "            if i >= 10:\n",
    "                break\n",
    "    \n",
    "    dt = time.time() - start_time\n",
    "    test_loss = test_loss\n",
    "    test_loss /= 10 # loss function already averages over batch size\n",
    "    nTotal = 10 * batchSz\n",
    "    err = 100.*incorrect/nTotal\n",
    "    print('\\nTest set: Average loss: {:.4f}, Error: {}/{} ({:.0f}%)\\n'.format(\n",
    "        test_loss, incorrect, nTotal, err))\n",
    "    print(f'Average time per batch: {dt / 10}')"
   ]
  },
  {
   "cell_type": "code",
   "execution_count": 21,
   "metadata": {},
   "outputs": [],
   "source": [
    "model1 = models.LenetDynamic(nineq=100)\n",
    "\n",
    "params = model.named_parameters()\n",
    "params1 = model1.named_parameters()\n",
    "\n",
    "dict_params1 = dict(params1)\n",
    "\n",
    "for name, param in params:\n",
    "    if name in dict_params1:\n",
    "        dict_params1[name].data.copy_(param.data)"
   ]
  },
  {
   "cell_type": "code",
   "execution_count": 22,
   "metadata": {},
   "outputs": [
    {
     "output_type": "stream",
     "name": "stdout",
     "text": "Testing model: 1/10\n--------\nqpth warning: Returning an inaccurate and potentially incorrect solution.\n\nSome residual is large.\nYour problem may be infeasible or difficult.\n\nYou can try using the CVXPY solver to see if your problem is feasible\nand you can use the verbose option to check the convergence status of\nour solver while increasing the number of iterations.\n\nAdvanced users:\nYou can also try to enable iterative refinement in the solver:\nhttps://github.com/locuslab/qpth/issues/6\n--------\n\nTesting model: 2/10\n--------\nqpth warning: Returning an inaccurate and potentially incorrect solution.\n\nSome residual is large.\nYour problem may be infeasible or difficult.\n\nYou can try using the CVXPY solver to see if your problem is feasible\nand you can use the verbose option to check the convergence status of\nour solver while increasing the number of iterations.\n\nAdvanced users:\nYou can also try to enable iterative refinement in the solver:\nhttps://github.com/locuslab/qpth/issues/6\n--------\n\nTesting model: 3/10\n--------\nqpth warning: Returning an inaccurate and potentially incorrect solution.\n\nSome residual is large.\nYour problem may be infeasible or difficult.\n\nYou can try using the CVXPY solver to see if your problem is feasible\nand you can use the verbose option to check the convergence status of\nour solver while increasing the number of iterations.\n\nAdvanced users:\nYou can also try to enable iterative refinement in the solver:\nhttps://github.com/locuslab/qpth/issues/6\n--------\n\nTesting model: 4/10\n--------\nqpth warning: Returning an inaccurate and potentially incorrect solution.\n\nSome residual is large.\nYour problem may be infeasible or difficult.\n\nYou can try using the CVXPY solver to see if your problem is feasible\nand you can use the verbose option to check the convergence status of\nour solver while increasing the number of iterations.\n\nAdvanced users:\nYou can also try to enable iterative refinement in the solver:\nhttps://github.com/locuslab/qpth/issues/6\n--------\n\nTesting model: 5/10\n--------\nqpth warning: Returning an inaccurate and potentially incorrect solution.\n\nSome residual is large.\nYour problem may be infeasible or difficult.\n\nYou can try using the CVXPY solver to see if your problem is feasible\nand you can use the verbose option to check the convergence status of\nour solver while increasing the number of iterations.\n\nAdvanced users:\nYou can also try to enable iterative refinement in the solver:\nhttps://github.com/locuslab/qpth/issues/6\n--------\n\nTesting model: 6/10\n--------\nqpth warning: Returning an inaccurate and potentially incorrect solution.\n\nSome residual is large.\nYour problem may be infeasible or difficult.\n\nYou can try using the CVXPY solver to see if your problem is feasible\nand you can use the verbose option to check the convergence status of\nour solver while increasing the number of iterations.\n\nAdvanced users:\nYou can also try to enable iterative refinement in the solver:\nhttps://github.com/locuslab/qpth/issues/6\n--------\n\nTesting model: 7/10\n--------\nqpth warning: Returning an inaccurate and potentially incorrect solution.\n\nSome residual is large.\nYour problem may be infeasible or difficult.\n\nYou can try using the CVXPY solver to see if your problem is feasible\nand you can use the verbose option to check the convergence status of\nour solver while increasing the number of iterations.\n\nAdvanced users:\nYou can also try to enable iterative refinement in the solver:\nhttps://github.com/locuslab/qpth/issues/6\n--------\n\nTesting model: 8/10\n--------\nqpth warning: Returning an inaccurate and potentially incorrect solution.\n\nSome residual is large.\nYour problem may be infeasible or difficult.\n\nYou can try using the CVXPY solver to see if your problem is feasible\nand you can use the verbose option to check the convergence status of\nour solver while increasing the number of iterations.\n\nAdvanced users:\nYou can also try to enable iterative refinement in the solver:\nhttps://github.com/locuslab/qpth/issues/6\n--------\n\nTesting model: 9/10\n--------\nqpth warning: Returning an inaccurate and potentially incorrect solution.\n\nSome residual is large.\nYour problem may be infeasible or difficult.\n\nYou can try using the CVXPY solver to see if your problem is feasible\nand you can use the verbose option to check the convergence status of\nour solver while increasing the number of iterations.\n\nAdvanced users:\nYou can also try to enable iterative refinement in the solver:\nhttps://github.com/locuslab/qpth/issues/6\n--------\n\nTesting model: 10/10\n--------\nqpth warning: Returning an inaccurate and potentially incorrect solution.\n\nSome residual is large.\nYour problem may be infeasible or difficult.\n\nYou can try using the CVXPY solver to see if your problem is feasible\nand you can use the verbose option to check the convergence status of\nour solver while increasing the number of iterations.\n\nAdvanced users:\nYou can also try to enable iterative refinement in the solver:\nhttps://github.com/locuslab/qpth/issues/6\n--------\n\n\nTest set: Average loss: 0.1402, Error: 8/640 (1%)\n\nAverage time per batch: 1.093516755104065\n"
    }
   ],
   "source": [
    "# OPTNET PERFORMANCE TEST\n",
    "test(model)"
   ]
  },
  {
   "cell_type": "code",
   "execution_count": 23,
   "metadata": {},
   "outputs": [
    {
     "output_type": "stream",
     "name": "stdout",
     "text": "Testing model: 10/10\nTest set: Average loss: nan, Error: 584/640 (91%)\n\nAverage time per batch: 0.02909233570098877\n"
    }
   ],
   "source": [
    "# DYNAMIC PERFORMANCE TEST\n",
    "test(model1)"
   ]
  },
  {
   "cell_type": "code",
   "execution_count": null,
   "metadata": {},
   "outputs": [],
   "source": []
  }
 ],
 "metadata": {
  "kernelspec": {
   "display_name": "Python 3",
   "language": "python",
   "name": "python3"
  },
  "language_info": {
   "codemirror_mode": {
    "name": "ipython",
    "version": 3
   },
   "file_extension": ".py",
   "mimetype": "text/x-python",
   "name": "python",
   "nbconvert_exporter": "python",
   "pygments_lexer": "ipython3",
   "version": "3.8.3-final"
  }
 },
 "nbformat": 4,
 "nbformat_minor": 4
}